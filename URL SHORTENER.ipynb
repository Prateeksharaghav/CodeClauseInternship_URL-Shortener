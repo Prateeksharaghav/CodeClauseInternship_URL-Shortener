{
 "cells": [
  {
   "cell_type": "markdown",
   "id": "8b7973a3",
   "metadata": {},
   "source": [
    "# URL SHORTENER"
   ]
  },
  {
   "cell_type": "markdown",
   "id": "241be956",
   "metadata": {},
   "source": [
    "# INSTALL PYSHORTENERS"
   ]
  },
  {
   "cell_type": "code",
   "execution_count": 4,
   "id": "24bc5800",
   "metadata": {},
   "outputs": [
    {
     "name": "stdout",
     "output_type": "stream",
     "text": [
      "Requirement already satisfied: pyshorteners in c:\\users\\dell\\anaconda3\\lib\\site-packages (1.0.1)\n",
      "Requirement already satisfied: requests in c:\\users\\dell\\anaconda3\\lib\\site-packages (from pyshorteners) (2.27.1)\n",
      "Requirement already satisfied: urllib3<1.27,>=1.21.1 in c:\\users\\dell\\anaconda3\\lib\\site-packages (from requests->pyshorteners) (1.26.9)\n",
      "Requirement already satisfied: certifi>=2017.4.17 in c:\\users\\dell\\anaconda3\\lib\\site-packages (from requests->pyshorteners) (2021.10.8)\n",
      "Requirement already satisfied: idna<4,>=2.5 in c:\\users\\dell\\anaconda3\\lib\\site-packages (from requests->pyshorteners) (3.3)\n",
      "Requirement already satisfied: charset-normalizer~=2.0.0 in c:\\users\\dell\\anaconda3\\lib\\site-packages (from requests->pyshorteners) (2.0.4)\n",
      "Note: you may need to restart the kernel to use updated packages.\n"
     ]
    }
   ],
   "source": [
    "pip install pyshorteners"
   ]
  },
  {
   "cell_type": "markdown",
   "id": "72df479b",
   "metadata": {},
   "source": [
    "# IMPORT PYSHORTENERS \n",
    "\n"
   ]
  },
  {
   "cell_type": "code",
   "execution_count": 7,
   "id": "ab588537",
   "metadata": {},
   "outputs": [
    {
     "name": "stdout",
     "output_type": "stream",
     "text": [
      "Enter the URL to shorten: https://github.com/Prateeksharaghav/CodeClauseInternship_Alarm-Clock-with-GUI\n",
      "\n",
      "\n",
      "The shortened URL is : https://tinyurl.com/27rjpvn6\n"
     ]
    }
   ],
   "source": [
    "\n",
    "import pyshorteners\n",
    "\n",
    "def main():\n",
    "    # Prompt the user to enter the URL to shorten\n",
    "    long_url = input(\"Enter the URL to shorten: \")\n",
    "\n",
    "    try:\n",
    "        # Create an instance of the Shortener class and initialize to use the TinyURL shortener service\n",
    "        type_tiny = pyshorteners.Shortener()\n",
    "\n",
    "        # Use the TinyURL shortener service to shorten the long URL\n",
    "        short_url = type_tiny.tinyurl.short(long_url)\n",
    "        \n",
    "        print(\"\\n\")\n",
    "\n",
    "        # Display the shortened URL to the user\n",
    "        print(\"The shortened URL is :\", short_url)\n",
    "    except Exception as e:\n",
    "        print(\"An error occurred:\", str(e))\n",
    "\n",
    "if __name__ == \"__main__\":\n",
    "    main()"
   ]
  },
  {
   "cell_type": "code",
   "execution_count": null,
   "id": "089cd0c9",
   "metadata": {},
   "outputs": [],
   "source": [
    " https://github.com/Prateeksharaghav/CodeClauseInternship_Alarm-Clock-with-GUI"
   ]
  },
  {
   "cell_type": "code",
   "execution_count": null,
   "id": "76f4bfc5",
   "metadata": {},
   "outputs": [],
   "source": []
  }
 ],
 "metadata": {
  "kernelspec": {
   "display_name": "Python 3 (ipykernel)",
   "language": "python",
   "name": "python3"
  },
  "language_info": {
   "codemirror_mode": {
    "name": "ipython",
    "version": 3
   },
   "file_extension": ".py",
   "mimetype": "text/x-python",
   "name": "python",
   "nbconvert_exporter": "python",
   "pygments_lexer": "ipython3",
   "version": "3.9.12"
  }
 },
 "nbformat": 4,
 "nbformat_minor": 5
}
